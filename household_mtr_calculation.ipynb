{
 "cells": [
  {
   "cell_type": "code",
   "execution_count": null,
   "id": "f9aa0809",
   "metadata": {},
   "outputs": [],
   "source": [
    "from policyengine_us import Simulation\n",
    "\n",
    "# Create hypothetical household\n",
    "situation = {\n",
    "  \"people\": {\n",
    "    \"you\": {\n",
    "      \"age\": {\n",
    "        \"2026\": 40\n",
    "      }\n",
    "    },\n",
    "    \"your partner\": {\n",
    "      \"age\": {\n",
    "        \"2026\": 40\n",
    "      }\n",
    "    },\n",
    "    \"your first dependent\": {\n",
    "      \"age\": {\n",
    "        \"2026\": 10\n",
    "      }\n",
    "    },\n",
    "    \"your second dependent\": {\n",
    "      \"age\": {\n",
    "        \"2026\": 10\n",
    "      }\n",
    "    }\n",
    "  },\n",
    "  \"families\": {\n",
    "    \"your family\": {\n",
    "      \"members\": [\n",
    "        \"you\",\n",
    "        \"your partner\",\n",
    "        \"your first dependent\",\n",
    "        \"your second dependent\"\n",
    "      ]\n",
    "    }\n",
    "  },\n",
    "  \"spm_units\": {\n",
    "    \"your household\": {\n",
    "      \"members\": [\n",
    "        \"you\",\n",
    "        \"your partner\",\n",
    "        \"your first dependent\",\n",
    "        \"your second dependent\"\n",
    "      ]\n",
    "    }\n",
    "  },\n",
    "  \"tax_units\": {\n",
    "    \"your tax unit\": {\n",
    "      \"members\": [\n",
    "        \"you\",\n",
    "        \"your partner\",\n",
    "        \"your first dependent\",\n",
    "        \"your second dependent\"\n",
    "      ]\n",
    "    }\n",
    "  },\n",
    "  \"households\": {\n",
    "    \"your household\": {\n",
    "      \"members\": [\n",
    "        \"you\",\n",
    "        \"your partner\",\n",
    "        \"your first dependent\",\n",
    "        \"your second dependent\"\n",
    "      ],\n",
    "      \"state_name\": {\n",
    "        \"2026\": \"CA\"\n",
    "      }\n",
    "    }\n",
    "  },\n",
    "  \"marital_units\": {\n",
    "    \"your marital unit\": {\n",
    "      \"members\": [\n",
    "        \"you\",\n",
    "        \"your partner\"\n",
    "      ]\n",
    "    },\n",
    "    \"your first dependent's marital unit\": {\n",
    "      \"members\": [\n",
    "        \"your first dependent\"\n",
    "      ],\n",
    "      \"marital_unit_id\": {\n",
    "        \"2026\": 1\n",
    "      }\n",
    "    },\n",
    "    \"your second dependent's marital unit\": {\n",
    "      \"members\": [\n",
    "        \"your second dependent\"\n",
    "      ],\n",
    "      \"marital_unit_id\": {\n",
    "        \"2026\": 2\n",
    "      }\n",
    "    }\n",
    "  },\n",
    "  # Generate 200 sets of outputs, each with varying employment_income\n",
    "  \"axes\": [\n",
    "    [\n",
    "      {\n",
    "        \"name\": \"employment_income\",\n",
    "        \"count\": 200, # count of increments, not size\n",
    "        \"min\": 0,\n",
    "        \"max\": 200000\n",
    "      }\n",
    "    ]\n",
    "  ]\n",
    "}\n",
    "\n",
    "simulation = Simulation(\n",
    "    situation=situation,\n",
    ")\n",
    "\n",
    "# Get marginal tax rates of each member\n",
    "output = simulation.calculate(\"marginal_tax_rate\", 2026)"
   ]
  },
  {
   "cell_type": "code",
   "execution_count": null,
   "id": "5dbcb771",
   "metadata": {},
   "outputs": [],
   "source": [
    "# Get household size\n",
    "size_array = simulation.calculate(\"household_size\", 2026)"
   ]
  },
  {
   "cell_type": "code",
   "execution_count": 34,
   "id": "a7957edb",
   "metadata": {},
   "outputs": [
    {
     "data": {
      "text/plain": [
       "4"
      ]
     },
     "execution_count": 34,
     "metadata": {},
     "output_type": "execute_result"
    }
   ],
   "source": [
    "size_array[0]"
   ]
  },
  {
   "cell_type": "code",
   "execution_count": null,
   "id": "5ee754b7",
   "metadata": {},
   "outputs": [],
   "source": [
    "# Keep only head of household's output\n",
    "mtrs_head = []\n",
    "for i in range(output.shape[0]):\n",
    "    if i % size_array[0] == 0:\n",
    "        value = output[i]\n",
    "        mtrs_head.append(value)"
   ]
  },
  {
   "cell_type": "code",
   "execution_count": 6,
   "id": "21fe1d10",
   "metadata": {},
   "outputs": [
    {
     "data": {
      "text/plain": [
       "800"
      ]
     },
     "execution_count": 6,
     "metadata": {},
     "output_type": "execute_result"
    }
   ],
   "source": [
    "output.shape[0]"
   ]
  },
  {
   "cell_type": "code",
   "execution_count": 7,
   "id": "b36fcc7a",
   "metadata": {},
   "outputs": [
    {
     "data": {
      "text/plain": [
       "200"
      ]
     },
     "execution_count": 7,
     "metadata": {},
     "output_type": "execute_result"
    }
   ],
   "source": [
    "len(mtrs_head)"
   ]
  },
  {
   "cell_type": "code",
   "execution_count": null,
   "id": "595992d2",
   "metadata": {},
   "outputs": [
    {
     "data": {
      "text/plain": [
       "5"
      ]
     },
     "execution_count": 25,
     "metadata": {},
     "output_type": "execute_result"
    }
   ],
   "source": [
    "# Define a regularization function\n",
    "def regularize(x, threshold):\n",
    "    if abs(x) < threshold:\n",
    "        return 0\n",
    "    else:\n",
    "        return x\n",
    "\n",
    "# Count the number of times the MTR graph changes direction\n",
    "sign_switch_counter = 0\n",
    "debug_list = []\n",
    "for i in range(2, len(mtrs_head)):\n",
    "    # first-difference of MTR, lagged once\n",
    "        # If the first-difference is less than 1 percentage point, \n",
    "        # regularize() ignores the change.\n",
    "    mtr_diff_l1 = regularize(mtrs_head[i-1] - mtrs_head[i-2], 1e-2)\n",
    "    # first difference of MTR\n",
    "    mtr_diff = regularize(mtrs_head[i] - mtrs_head[i-1], 1e-2)\n",
    "    # Condition: if the two first differences swiched signs\n",
    "    if mtr_diff_l1 * mtr_diff < 0:\n",
    "        sign_switch_counter += 1\n",
    "    debug_list.append(mtr_diff)\n",
    "\n",
    "sign_switch_counter"
   ]
  },
  {
   "cell_type": "code",
   "execution_count": null,
   "id": "f7b74e54",
   "metadata": {},
   "outputs": [
    {
     "data": {
      "text/plain": [
       "0.025"
      ]
     },
     "execution_count": 29,
     "metadata": {},
     "output_type": "execute_result"
    }
   ],
   "source": [
    "# Number of times sign-switches over the number of increments\n",
    "sign_switch_counter/len(mtrs_head)"
   ]
  },
  {
   "cell_type": "code",
   "execution_count": null,
   "id": "88707884",
   "metadata": {},
   "outputs": [],
   "source": []
  }
 ],
 "metadata": {
  "kernelspec": {
   "display_name": "pengine",
   "language": "python",
   "name": "python3"
  },
  "language_info": {
   "codemirror_mode": {
    "name": "ipython",
    "version": 3
   },
   "file_extension": ".py",
   "mimetype": "text/x-python",
   "name": "python",
   "nbconvert_exporter": "python",
   "pygments_lexer": "ipython3",
   "version": "3.11.11"
  }
 },
 "nbformat": 4,
 "nbformat_minor": 5
}
